{
 "cells": [
  {
   "cell_type": "markdown",
   "metadata": {},
   "source": [
    "# HW3 Code"
   ]
  },
  {
   "cell_type": "code",
   "execution_count": 40,
   "metadata": {},
   "outputs": [],
   "source": [
    "import numpy as np\n",
    "import jax, jax.numpy as jnp"
   ]
  },
  {
   "cell_type": "code",
   "execution_count": 41,
   "metadata": {},
   "outputs": [],
   "source": [
    "# Define Cart-pole constants\n",
    "mp = 2.0  # pendulum mass\n",
    "mc = 10.0  # cart mass\n",
    "L = 1.0  # pendulum length\n",
    "g = 9.81  # gravitational acceleration\n",
    "dt = 0.1  # discretization time step\n",
    "\n",
    "Q = jnp.eye(4)\n",
    "R = jnp.eye(1)"
   ]
  },
  {
   "cell_type": "code",
   "execution_count": 42,
   "metadata": {},
   "outputs": [],
   "source": [
    "df_ds = jnp.array(\n",
    "    [\n",
    "        [0, 0, 1, 0],\n",
    "        [0, 0 ,0, 1],\n",
    "        [0, mp*g/mc, 0, 0],\n",
    "        [0, (mc+mp)*g/(mc*L), 0, 0]\n",
    "    ]\n",
    ")\n",
    "\n",
    "df_du = jnp.array(\n",
    "    [\n",
    "        [0],\n",
    "        [0],\n",
    "        [1/mc],\n",
    "        [1/(mc*L)]\n",
    "    ]\n",
    ")"
   ]
  },
  {
   "cell_type": "code",
   "execution_count": 46,
   "metadata": {},
   "outputs": [
    {
     "data": {
      "text/plain": [
       "Array([[0.  ],\n",
       "       [0.  ],\n",
       "       [0.01],\n",
       "       [0.01]], dtype=float32)"
      ]
     },
     "execution_count": 46,
     "metadata": {},
     "output_type": "execute_result"
    }
   ],
   "source": [
    "A = jnp.eye(4) + dt * df_ds\n",
    "\n",
    "B = dt * df_du\n",
    "B"
   ]
  },
  {
   "cell_type": "code",
   "execution_count": 47,
   "metadata": {},
   "outputs": [],
   "source": [
    "# Final cost-to-go P_N\n",
    "P_N = 0*jnp.eye(4)\n",
    "\n",
    "def riccati(P_k1, A, B, eps=1e-4):\n",
    "\n",
    "    K_k = -1 * jnp.linalg.inv(R + B.T @ P_k1 @ B) @ B.T @ P_k1 @ A\n",
    "\n",
    "    P_k = Q + A.T @ P_k1 @ (A + B @ K_k)\n",
    "\n",
    "    # print(K_k.T @ R @ K_k)\n",
    "\n",
    "    # P_k = Q + K_k.T @ R @ K_k + (A + B @ K_k).T @ P_k1 @ (A + B @ K_k)\n",
    "\n",
    "    # termination condition\n",
    "    if jnp.max(jnp.abs(P_k1-P_k)) < 1e-4:\n",
    "        print('Convergence achieved')\n",
    "\n",
    "    else:\n",
    "        K_k, P_k = riccati(P_k, A, B)\n",
    "\n",
    "    return K_k, P_k"
   ]
  },
  {
   "cell_type": "code",
   "execution_count": 48,
   "metadata": {},
   "outputs": [
    {
     "name": "stdout",
     "output_type": "stream",
     "text": [
      "Convergence achieved\n",
      "K_inf:\n",
      " [[   0.7291392 -231.85417      4.219666   -68.24741  ]]\n",
      "P_inf:\n",
      " [[ 5.7871891e+01 -9.3599890e+02  1.5956427e+02 -2.9671216e+02]\n",
      " [-9.3599847e+02  1.2596546e+05 -5.0264883e+03  3.7501445e+04]\n",
      " [ 1.5956425e+02 -5.0264912e+03  8.1205951e+02 -1.5920457e+03]\n",
      " [-2.9671207e+02  3.7501449e+04 -1.5920449e+03  1.1181582e+04]]\n"
     ]
    }
   ],
   "source": [
    "K_inf, P_inf = riccati(P_N, A, B, eps=1e-4)\n",
    "print(\"K_inf:\\n\", K_inf)\n",
    "print(\"P_inf:\\n\", P_inf)"
   ]
  },
  {
   "cell_type": "code",
   "execution_count": null,
   "metadata": {},
   "outputs": [],
   "source": []
  }
 ],
 "metadata": {
  "kernelspec": {
   "display_name": "AA203",
   "language": "python",
   "name": "python3"
  },
  "language_info": {
   "codemirror_mode": {
    "name": "ipython",
    "version": 3
   },
   "file_extension": ".py",
   "mimetype": "text/x-python",
   "name": "python",
   "nbconvert_exporter": "python",
   "pygments_lexer": "ipython3",
   "version": "3.12.1"
  }
 },
 "nbformat": 4,
 "nbformat_minor": 2
}
