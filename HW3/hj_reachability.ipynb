{
 "cells": [
  {
   "cell_type": "code",
   "execution_count": 5,
   "id": "776fdf87-7915-467b-af2d-a563430d5f45",
   "metadata": {},
   "outputs": [],
   "source": [
    "\"\"\"\n",
    "Starter code for the problem \"Hamilton-Jacobi reachability\".\n",
    "\n",
    "Autonomous Systems Lab (ASL), Stanford University\n",
    "\"\"\"\n",
    "\n",
    "import os\n",
    "\n",
    "import jax\n",
    "import jax.numpy as jnp\n",
    "import numpy as np\n",
    "\n",
    "import hj_reachability as hj\n",
    "\n",
    "import matplotlib.pyplot as plt\n",
    "from animations import animate_planar_quad\n"
   ]
  },
  {
   "cell_type": "code",
   "execution_count": 10,
   "id": "ef5dc936-047b-4bb6-a810-51d4c71f1789",
   "metadata": {},
   "outputs": [
    {
     "data": {
      "text/plain": [
       "18.388125000000002"
      ]
     },
     "execution_count": 10,
     "metadata": {},
     "output_type": "execute_result"
    }
   ],
   "source": [
    "9.807 * 2.5 * 0.75"
   ]
  },
  {
   "cell_type": "code",
   "execution_count": 102,
   "id": "575dbfac-51bc-419e-a026-5def116526d6",
   "metadata": {},
   "outputs": [],
   "source": [
    "# Define problem ingredients (exercise parts (a), (b), (c)).\n",
    "\n",
    "\n",
    "class PlanarQuadrotor:\n",
    "\n",
    "    def __init__(self):\n",
    "        # Dynamics constants\n",
    "        # yapf: disable\n",
    "        self.g = 9.807         # gravity (m / s**2)\n",
    "        self.m = 2.5           # mass (kg)\n",
    "        self.l = 1.0           # half-length (m)\n",
    "        self.Iyy = 1.0         # moment of inertia about the out-of-plane axis (kg * m**2)\n",
    "        self.Cd_v = 0.25       # translational drag coefficient\n",
    "        self.Cd_phi = 0.02255  # rotational drag coefficient\n",
    "        # yapf: enable\n",
    "\n",
    "        # Control constraints\n",
    "        self.max_thrust_per_prop = (\n",
    "            0.75 * self.m * self.g\n",
    "        )  # total thrust-to-weight ratio = 1.5\n",
    "        self.min_thrust_per_prop = (\n",
    "            0  # at least until variable-pitch quadrotors become mainstream :D\n",
    "        )\n",
    "\n",
    "    def full_dynamics(self, full_state, control):\n",
    "        \"\"\"Continuous-time dynamics of a planar quadrotor expressed as an ODE.\"\"\"\n",
    "        x, v_x, y, v_y, phi, omega = full_state\n",
    "        T_1, T_2 = control\n",
    "        return jnp.array(\n",
    "            [\n",
    "                v_x,\n",
    "                (-(T_1 + T_2) * jnp.sin(phi) - self.Cd_v * v_x) / self.m,\n",
    "                v_y,\n",
    "                ((T_1 + T_2) * jnp.cos(phi) - self.Cd_v * v_y) / self.m - self.g,\n",
    "                omega,\n",
    "                ((T_2 - T_1) * self.l - self.Cd_phi * omega) / self.Iyy,\n",
    "            ]\n",
    "        )\n",
    "\n",
    "    def dynamics(self, state, control):\n",
    "        \"\"\"Reduced (for the purpose of reachable set computation) continuous-time dynamics of a planar quadrotor.\"\"\"\n",
    "        y, v_y, phi, omega = state\n",
    "        T_1, T_2 = control\n",
    "        return jnp.array(\n",
    "            [\n",
    "                v_y,\n",
    "                ((T_1 + T_2) * jnp.cos(phi) - self.Cd_v * v_y) / self.m - self.g,\n",
    "                omega,\n",
    "                ((T_2 - T_1) * self.l - self.Cd_phi * omega) / self.Iyy,\n",
    "            ]\n",
    "        )\n",
    "\n",
    "    def optimal_control(self, state, grad_value):\n",
    "        \"\"\"Computes the optimal control realized by the HJ PDE Hamiltonian.\n",
    "\n",
    "        Args:\n",
    "            state: An unbatched (!) state vector, an array of shape `(4,)` containing `[y, v_y, phi, omega]`.\n",
    "            grad_value: An array of shape `(4,)` containing the gradient of the value function at `state`.\n",
    "\n",
    "        Returns:\n",
    "            A vector of optimal controls, an array of shape `(2,)` containing `[T_1, T_2]`, that minimizes\n",
    "            `grad_value @ self.dynamics(state, control)`.\n",
    "        \"\"\"\n",
    "        # PART (a): WRITE YOUR CODE BELOW ###############################################\n",
    "        # You may find `jnp.where` to be useful; see corresponding numpy docstring:\n",
    "        # https://numpy.org/doc/stable/reference/generated/numpy.where.html\n",
    "        n = 100\n",
    "\n",
    "        # T1_grid = np.linspace(self.min_thrust_per_prop,self.max_thrust_per_prop, n)\n",
    "        # T2_grid = np.linspace(self.min_thrust_per_prop,self.max_thrust_per_prop, n)\n",
    "        # H_grid = np.zeros((n, n))\n",
    "\n",
    "        \n",
    "        # T1_grid = [self.min_thrust_per_prop,self.max_thrust_per_prop]\n",
    "        # T2_grid = [self.min_thrust_per_prop,self.max_thrust_per_prop]\n",
    "        # H_grid = np.zeros((2, 2))\n",
    "        # H_grid = [] #np.zeros((2, 2))\n",
    "        \n",
    "        # # state = np.zeros((4, 1))\n",
    "        # # grad_value = np.zeros((4, 1))\n",
    "        # control = jnp.array([self.min_thrust_per_prop, self.min_thrust_per_prop]).astype(float)\n",
    "        # H_min = jnp.inf\n",
    "        # for i, T1 in enumerate(T1_grid):\n",
    "        #     for j, T2 in enumerate(T2_grid):\n",
    "        #         # print(grad_value.shape, self.dynamics(state, [T1, T2]).shape)\n",
    "        #         f = self.dynamics(state, [T1, T2])\n",
    "        #         # print(f, grad_value, jnp.dot(f, grad_value))\n",
    "        #         # break\n",
    "        #         # H_grid[i,j] = jnp.dot(grad_value,  self.dynamics(state, [T1, T2]))\n",
    "        #         H = jnp.dot(grad_value,  self.dynamics(state, [T1, T2]))\n",
    "                \n",
    "        #         H_grid.append(jnp.dot(grad_value,  self.dynamics(state, [T1, T2])))\n",
    "        control = jnp.where(\n",
    "            jnp.array(\n",
    "                [\n",
    "                    jnp.dot(grad_value,  self.dynamics(state, [self.min_thrust_per_prop, self.min_thrust_per_prop])) < \\\n",
    "                    jnp.dot(grad_value,  self.dynamics(state, [self.max_thrust_per_prop, self.min_thrust_per_prop])), \n",
    "                    jnp.dot(grad_value,  self.dynamics(state, [self.min_thrust_per_prop, self.min_thrust_per_prop])) < \\\n",
    "                    jnp.dot(grad_value,  self.dynamics(state, [self.min_thrust_per_prop, self.max_thrust_per_prop])), \n",
    "                ]\n",
    "            ),\n",
    "            jnp.array([self.min_thrust_per_prop,self.min_thrust_per_prop]),\n",
    "            jnp.array([self.max_thrust_per_prop,self.max_thrust_per_prop]),\n",
    "        )\n",
    "        return control\n",
    "            # break\n",
    "\n",
    "        # H_grid = jnp.array(H_grid)\n",
    "        \n",
    "        # i_min, j_min = jnp.unravel_index(H_grid.argmin(), (2,2))\n",
    "\n",
    "        # # print(jnp.array([T1_grid[i_min], T2_grid[j_min]]))\n",
    "                \n",
    "        # return jnp.array([T1_grid[i_min], T2_grid[j_min]]).astype(float)\n",
    "\n",
    "\n",
    "        #  [T1_grid[i_min], T2_grid[j_min]] = jnp.where(conditions, [min min], [max max], [max min], [max ])\n",
    "        # raise NotImplementedError\n",
    "        #################################################################################\n",
    "\n",
    "    def hamiltonian(self, state, time, value, grad_value):\n",
    "        \"\"\"Evaluates the HJ PDE Hamiltonian.\"\"\"\n",
    "        del time, value  # unused\n",
    "        control = self.optimal_control(state, grad_value)\n",
    "        return grad_value @ self.dynamics(state, control)\n",
    "\n",
    "    def partial_max_magnitudes(self, state, time, value, grad_value_box):\n",
    "        \"\"\"Computes the max magnitudes of the Hamiltonian partials over the `grad_value_box` in each dimension.\"\"\"\n",
    "        del time, value, grad_value_box  # unused\n",
    "        y, v_y, phi, omega = state\n",
    "        return jnp.array(\n",
    "            [\n",
    "                jnp.abs(v_y),\n",
    "                (\n",
    "                    2 * self.max_thrust_per_prop * jnp.abs(jnp.cos(phi))\n",
    "                    + self.Cd_v * jnp.abs(v_y)\n",
    "                )\n",
    "                / self.m\n",
    "                + self.g,\n",
    "                jnp.abs(omega),\n",
    "                (\n",
    "                    (self.max_thrust_per_prop - self.min_thrust_per_prop) * self.l\n",
    "                    + self.Cd_phi * jnp.abs(omega)\n",
    "                )\n",
    "                / self.Iyy,\n",
    "            ]\n",
    "        )"
   ]
  },
  {
   "cell_type": "code",
   "execution_count": 103,
   "id": "34f1a613-028e-4136-ab74-9de9d170216c",
   "metadata": {
    "scrolled": true
   },
   "outputs": [],
   "source": [
    "def test_optimal_control(n=10, seed=0):\n",
    "    planar_quadrotor = PlanarQuadrotor()\n",
    "    optimal_control = jax.jit(planar_quadrotor.optimal_control)# \n",
    "    np.random.seed(seed)\n",
    "    states = 5 * np.random.normal(size=(n, 4))\n",
    "    grad_values = np.random.normal(size=(n, 4))\n",
    "    try:\n",
    "        for state, grad_value in zip(states, grad_values):\n",
    "            if not jnp.issubdtype(\n",
    "                optimal_control(state, grad_value).dtype, jnp.floating\n",
    "            ):\n",
    "                raise ValueError(\n",
    "                    \"`PlanarQuadrotor.optimal_control` must return a `float` array (i.e., not `int`).\"\n",
    "                )\n",
    "            opt_hamiltonian_value = grad_value @ planar_quadrotor.dynamics(\n",
    "                state, optimal_control(state, grad_value)\n",
    "            )\n",
    "            for T_1 in (\n",
    "                planar_quadrotor.min_thrust_per_prop,\n",
    "                planar_quadrotor.max_thrust_per_prop,\n",
    "            ):\n",
    "                for T_2 in (\n",
    "                    planar_quadrotor.min_thrust_per_prop,\n",
    "                    planar_quadrotor.max_thrust_per_prop,\n",
    "                ):\n",
    "                    hamiltonian_value = grad_value @ planar_quadrotor.dynamics(\n",
    "                        state, np.array([T_1, T_2])\n",
    "                    )\n",
    "                    if opt_hamiltonian_value > hamiltonian_value + 1e-4:\n",
    "                        raise ValueError(\n",
    "                            \"Check your logic for `PlanarQuadrotor.optimal_control`; with \"\n",
    "                            f\"`state` {state} and `grad_value` {grad_value}, got optimal control\"\n",
    "                            f\"{optimal_control(state, grad_value)} with corresponding Hamiltonian value \"\n",
    "                            f\"{opt_hamiltonian_value:7.4f} but {np.array([T_1, T_2])} has a lower corresponding \"\n",
    "                            f\"value {hamiltonian_value:7.4f}.\"\n",
    "                        )\n",
    "    except (jax.errors.JAXTypeError, jax.errors.JAXIndexError, AssertionError) as e:\n",
    "        print(\n",
    "            \"`PlanarQuadrotor.optimal_control` must be implemented using only `jnp` operations; \"\n",
    "            \"`np` may only be used for constants, \"\n",
    "            \"and `jnp.where` must be used instead of native python control flow (`if`/`else`).\"\n",
    "        )\n",
    "        raise e\n",
    "test_optimal_control()\n",
    "# test_target_set()\n",
    "# test_envelope_set()\n"
   ]
  },
  {
   "cell_type": "code",
   "execution_count": null,
   "id": "9c1aa46f-9723-4eda-9de3-1337a7cd2016",
   "metadata": {},
   "outputs": [],
   "source": [
    "state = np.ar"
   ]
  },
  {
   "cell_type": "code",
   "execution_count": 49,
   "id": "03de1a84-f864-47d1-a065-497ecbd09d03",
   "metadata": {},
   "outputs": [
    {
     "ename": "TypeError",
     "evalue": "cannot unpack non-iterable numpy.float64 object",
     "output_type": "error",
     "traceback": [
      "\u001b[0;31m---------------------------------------------------------------------------\u001b[0m",
      "\u001b[0;31mTypeError\u001b[0m                                 Traceback (most recent call last)",
      "Cell \u001b[0;32mIn[49], line 9\u001b[0m\n\u001b[1;32m      7\u001b[0m state \u001b[38;5;241m=\u001b[39m np\u001b[38;5;241m.\u001b[39mzeros((\u001b[38;5;241m4\u001b[39m, \u001b[38;5;241m1\u001b[39m))\n\u001b[1;32m      8\u001b[0m grad_value \u001b[38;5;241m=\u001b[39m np\u001b[38;5;241m.\u001b[39mzeros((\u001b[38;5;241m4\u001b[39m, \u001b[38;5;241m1\u001b[39m))\n\u001b[0;32m----> 9\u001b[0m \u001b[38;5;28;01mfor\u001b[39;00m i, T1 \u001b[38;5;129;01min\u001b[39;00m T1_grid:\n\u001b[1;32m     10\u001b[0m     \u001b[38;5;28;01mfor\u001b[39;00m j, T2 \u001b[38;5;129;01min\u001b[39;00m T2_grid:\n\u001b[1;32m     11\u001b[0m         H_grid[i,j] \u001b[38;5;241m=\u001b[39m grad_value\u001b[38;5;241m.\u001b[39mT \u001b[38;5;241m@\u001b[39m dynamics(state, (T1, T2))\n",
      "\u001b[0;31mTypeError\u001b[0m: cannot unpack non-iterable numpy.float64 object"
     ]
    }
   ],
   "source": [
    "max_thrust_per_prop = 18.388125000000002\n",
    "min_thrust_per_prop = 0\n",
    "n = 100\n",
    "T1_grid = np.linspace(min_thrust_per_prop,max_thrust_per_prop, n)\n",
    "T2_grid = np.linspace(min_thrust_per_prop,max_thrust_per_prop, n)\n",
    "H_grid = np.zeros((n, n))\n",
    "state = np.zeros((4, 1))\n",
    "grad_value = np.zeros((4, 1))\n",
    "for i, T1 in T1_grid:\n",
    "    for j, T2 in T2_grid:\n",
    "        H_grid[i,j] = grad_value.T @ dynamics(state, (T1, T2))"
   ]
  },
  {
   "cell_type": "code",
   "execution_count": 30,
   "id": "32a02cdc-c9d6-48db-b589-2f7f907ae621",
   "metadata": {},
   "outputs": [
    {
     "name": "stdout",
     "output_type": "stream",
     "text": [
      "[[0.65210327 0.43141844]\n",
      " [0.8965466  0.36756187]]\n"
     ]
    },
    {
     "data": {
      "text/plain": [
       "(1, 1)"
      ]
     },
     "execution_count": 30,
     "metadata": {},
     "output_type": "execute_result"
    }
   ],
   "source": [
    "A = np.random.rand(2, 2)\n",
    "print(A)\n",
    "np.unravel_index(A.argmin(), A.shape)\n",
    "# np.where(np.min(mat)==mat, mat)"
   ]
  },
  {
   "cell_type": "code",
   "execution_count": 52,
   "id": "d7cb6aeb-6569-48d3-8808-5c3a55f9b3dd",
   "metadata": {},
   "outputs": [
    {
     "data": {
      "text/plain": [
       "10"
      ]
     },
     "execution_count": 52,
     "metadata": {},
     "output_type": "execute_result"
    }
   ],
   "source": [
    "np.dot([1,1,1,1], [1,2,3,4])"
   ]
  },
  {
   "cell_type": "code",
   "execution_count": 7,
   "id": "2930fe62-b66b-4dee-b446-34c06a1968ee",
   "metadata": {},
   "outputs": [],
   "source": [
    "def target_set(state):\n",
    "    \"\"\"A real-valued function such that the zero-sublevel set is the target set.\n",
    "\n",
    "    Args:\n",
    "        state: An unbatched (!) state vector, an array of shape `(4,)` containing `[y, v_y, phi, omega]`.\n",
    "\n",
    "    Returns:\n",
    "        A scalar, nonpositive iff the state is in the target set.\n",
    "    \"\"\"\n",
    "    # PART (b): WRITE YOUR CODE BELOW ###############################################\n",
    "    raise NotImplementedError\n",
    "    #################################################################################"
   ]
  },
  {
   "cell_type": "code",
   "execution_count": 8,
   "id": "4815ac28-7b2c-44ee-894d-994eed792073",
   "metadata": {},
   "outputs": [],
   "source": [
    "def envelope_set(state):\n",
    "    \"\"\"A real-valued function such that the zero-sublevel set is the operational envelope.\n",
    "\n",
    "    Args:\n",
    "        state: An unbatched (!) state vector, an array of shape `(4,)` containing `[y, v_y, phi, omega]`.\n",
    "\n",
    "    Returns:\n",
    "        A scalar, nonpositive iff the state is in the operational envelope.\n",
    "    \"\"\"\n",
    "    # PART (c): WRITE YOUR CODE BELOW ###############################################\n",
    "    raise NotImplementedError\n",
    "    #################################################################################"
   ]
  },
  {
   "cell_type": "code",
   "execution_count": null,
   "id": "00bc87e4-abd0-473a-af4f-2409e9201b95",
   "metadata": {},
   "outputs": [],
   "source": []
  }
 ],
 "metadata": {
  "kernelspec": {
   "display_name": "Python 3 (ipykernel)",
   "language": "python",
   "name": "python3"
  },
  "language_info": {
   "codemirror_mode": {
    "name": "ipython",
    "version": 3
   },
   "file_extension": ".py",
   "mimetype": "text/x-python",
   "name": "python",
   "nbconvert_exporter": "python",
   "pygments_lexer": "ipython3",
   "version": "3.12.1"
  }
 },
 "nbformat": 4,
 "nbformat_minor": 5
}
