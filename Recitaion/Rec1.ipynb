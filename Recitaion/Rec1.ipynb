{
 "cells": [
  {
   "cell_type": "code",
   "execution_count": 1,
   "id": "4bea298e-c025-4a3d-9f30-58894ff6f6f1",
   "metadata": {},
   "outputs": [],
   "source": [
    "import jax\n",
    "import jax.numpy as jnp"
   ]
  },
  {
   "cell_type": "code",
   "execution_count": 19,
   "id": "7e9f6f0c-e453-47c9-8afa-01b283fe0d03",
   "metadata": {},
   "outputs": [
    {
     "data": {
      "text/plain": [
       "Array(-8.742278e-08, dtype=float32, weak_type=True)"
      ]
     },
     "execution_count": 19,
     "metadata": {},
     "output_type": "execute_result"
    }
   ],
   "source": [
    "jnp.sin(jnp.pi)"
   ]
  },
  {
   "cell_type": "code",
   "execution_count": 21,
   "id": "43fa98a7-f821-4f02-8c3e-cacd1bba57ab",
   "metadata": {},
   "outputs": [],
   "source": [
    "def f(x):\n",
    "    return x[0]*(x[0] + x[1]) + x[1] * x[1]\n",
    "\n",
    "x = jnp.array([0., 1., 2.])\n",
    "f_x, dfxT = jax.vjp(f, x)\n",
    "dfxT_1 = dfxT(2.)"
   ]
  },
  {
   "cell_type": "code",
   "execution_count": null,
   "id": "4beb2413-5784-49f4-8410-80b11254f32c",
   "metadata": {},
   "outputs": [],
   "source": [
    "def f(x):\n",
    "    return jnp.sin(x[0]+x[1]) + x[1]**2 * x3"
   ]
  },
  {
   "cell_type": "code",
   "execution_count": 2,
   "id": "f5d1b15e-7e48-417b-8eca-f89f3598724f",
   "metadata": {},
   "outputs": [],
   "source": [
    "def f(x):\n",
    "    return jnp.sum(x**2) / 2"
   ]
  },
  {
   "cell_type": "code",
   "execution_count": 6,
   "id": "7493d813-9a0a-491b-84b4-7956c3c775a7",
   "metadata": {},
   "outputs": [],
   "source": [
    "grad_f = jax.grad(f)"
   ]
  },
  {
   "cell_type": "code",
   "execution_count": 8,
   "id": "b0c63aab-aecd-4e8c-908e-3a6468149b63",
   "metadata": {},
   "outputs": [
    {
     "name": "stdout",
     "output_type": "stream",
     "text": [
      "x: \t [0. 1. 2.]\n",
      "f(x): \t 2.5\n",
      "grad_f(x): \t [0. 1. 2.]\n"
     ]
    }
   ],
   "source": [
    "x = jnp.array([0., 1., 2.])\n",
    "print('x: \\t', x)\n",
    "print('f(x): \\t', f(x))\n",
    "print('grad_f(x): \\t', grad_f(x))"
   ]
  },
  {
   "cell_type": "code",
   "execution_count": 12,
   "id": "1895b44b-a701-41e8-8e1d-6a179f618dce",
   "metadata": {},
   "outputs": [
    {
     "name": "stdout",
     "output_type": "stream",
     "text": [
      "x:  [0. 1. 2.]\n",
      "f(x):  2.5\n",
      "dfxT(1): (Array([0., 2., 4.], dtype=float32),)\n"
     ]
    }
   ],
   "source": [
    "## VJP as a gradient\n",
    "f = lambda x: jnp.sum(x**2)/2\n",
    "x = jnp.array([0., 1., 2.])\n",
    "f_x, dfxT = jax.vjp(f, x)\n",
    "dfxT_1 = dfxT(2.)\n",
    "\n",
    "print('x: ', x)\n",
    "print('f(x): ', f_x)\n",
    "print('dfxT(1):', dfxT_1)"
   ]
  },
  {
   "cell_type": "code",
   "execution_count": null,
   "id": "cd311f59-3ab5-4dee-951d-1052e6e7d4fa",
   "metadata": {},
   "outputs": [],
   "source": []
  }
 ],
 "metadata": {
  "kernelspec": {
   "display_name": "Python 3 (ipykernel)",
   "language": "python",
   "name": "python3"
  },
  "language_info": {
   "codemirror_mode": {
    "name": "ipython",
    "version": 3
   },
   "file_extension": ".py",
   "mimetype": "text/x-python",
   "name": "python",
   "nbconvert_exporter": "python",
   "pygments_lexer": "ipython3",
   "version": "3.12.1"
  }
 },
 "nbformat": 4,
 "nbformat_minor": 5
}
