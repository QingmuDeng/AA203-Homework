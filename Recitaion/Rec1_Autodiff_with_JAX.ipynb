{
 "cells": [
  {
   "cell_type": "markdown",
   "metadata": {
    "id": "OGMygLW-HeCf",
    "tags": []
   },
   "source": [
    "# JAX\n",
    "\n",
    "JAX follows the *functional programming* paradigm. That is, JAX provides tools to transform a function into another function. Specifically, JAX can automatically compute the *derivative* of a function or composition of functions.\n",
    "\n",
    "As an example, for $f(x) = \\frac{1}{2}\\|x\\|_2^2$, JAX computes $\\nabla{f} : \\mathbb{R}^n \\to \\mathbb{R}^n$ where $\\nabla{f}(x) = x$."
   ]
  },
  {
   "cell_type": "code",
   "execution_count": 1,
   "metadata": {
    "id": "o6pfu9-OHeCg",
    "outputId": "9a1685b1-fdeb-4689-978c-572ca4c6069b",
    "tags": []
   },
   "outputs": [
    {
     "name": "stderr",
     "output_type": "stream",
     "text": [
      "/home/qdeng/.pyenv/versions/3.12.1/envs/AA203/lib/python3.12/site-packages/jax/_src/xla_bridge.py:262: RuntimeWarning: Device 0 has CUDA compute capability 5.0 which is lower than the minimum supported compute capability 5.2. See https://jax.readthedocs.io/en/latest/installation.html#nvidia-gpu for more details\n",
      "  warnings.warn(\n"
     ]
    },
    {
     "name": "stdout",
     "output_type": "stream",
     "text": [
      "x:         [0. 1. 2.]\n",
      "f(x):      2.5\n",
      "grad_f(x): [0. 1. 2.]\n"
     ]
    }
   ],
   "source": [
    "import jax\n",
    "import jax.numpy as jnp\n",
    "\n",
    "def f(x):\n",
    "    return jnp.sum(x**2)/2   # identical to numpy syntax\n",
    "\n",
    "grad_f = jax.grad(f)         # compute the gradient function\n",
    "\n",
    "x = jnp.array([0., 1., 2.])  # use JAX arrays!\n",
    "print('x:        ', x)\n",
    "print('f(x):     ', f(x))\n",
    "print('grad_f(x):', grad_f(x))"
   ]
  },
  {
   "cell_type": "markdown",
   "metadata": {
    "id": "xQWItXGNHeCj",
    "tags": []
   },
   "source": [
    "# Automatic Differentation\n",
    "\n",
    "Consider the function $f : \\mathbb{R}^n \\to \\mathbb{R}^m$. The Jacobian of $f$ evaluated at the point $x \\in \\mathbb{R}^n$ is the matrix\n",
    "\n",
    "$$\n",
    "\\partial{f}(x) = \\begin{bmatrix}\n",
    "    \\frac{\\partial f_1}{\\partial x_1}(x)\n",
    "    & \\frac{\\partial f_1}{\\partial x_2}(x)\n",
    "    & \\cdots\n",
    "    & \\frac{\\partial f_1}{\\partial x_n}(x)\n",
    "    \\\\\n",
    "    \\frac{\\partial f_2}{\\partial x_1}(x)\n",
    "    & \\frac{\\partial f_2}{\\partial x_2}(x)\n",
    "    & \\cdots\n",
    "    & \\frac{\\partial f_2}{\\partial x_n}(x)\n",
    "    \\\\\n",
    "    \\vdots & \\vdots & \\ddots & \\vdots\n",
    "    \\\\\n",
    "    \\frac{\\partial f_m}{\\partial x_1}(x)\n",
    "    & \\frac{\\partial f_m}{\\partial x_2}(x)\n",
    "    & \\cdots\n",
    "    & \\frac{\\partial f_m}{\\partial x_n}(x)\n",
    "\\end{bmatrix}\n",
    "= \\left[\\frac{\\partial f_i}{\\partial x_j}(x)\\right]_{i=1,j=1}^{m,n} \\in \\mathbb{R}^{m \\times n}.\n",
    "$$\n",
    "\n",
    "As for any matrix, the Jacobian $\\partial{f}(x) : \\mathbb{R}^n \\to \\mathbb{R}^m$ is a linear map $v \\mapsto \\partial{f}(x)v$ defined by the usual matrix-vector multiplication rules."
   ]
  },
  {
   "cell_type": "markdown",
   "metadata": {
    "id": "gmgHn8Y6HeCj",
    "tags": []
   },
   "source": [
    "*Automatic Differentiation (AD, autodiff)* uses pre-defined derivatives and the chain rule to compute derivatives of more complex functions.\n",
    "\n",
    "In particular, AD can be used to compute the *Jacobian-Vector Product (JVP)*\n",
    "\n",
    "$$\n",
    "\\begin{aligned}\n",
    "    \\partial{f}(x) : \\mathbb{R}^n &\\to \\mathbb{R}^m\n",
    "    \\\\ v &\\mapsto \\partial{f}(x)v\n",
    "\\end{aligned}\n",
    "$$\n",
    "\n",
    "and the *Vector-Jacobian Product (VJP)*\n",
    "\n",
    "$$\n",
    "\\begin{aligned}\n",
    "    \\partial{f}(x)^\\top : \\mathbb{R}^m &\\to \\mathbb{R}^n\n",
    "    \\\\ w &\\mapsto \\partial{f}(x)^\\top w\n",
    "\\end{aligned}\n",
    "$$\n",
    "\n",
    "The maps $v \\mapsto \\partial{f}(x)v$ and $w \\mapsto \\partial{f}(x)^\\top w$ are also known as the *pushforward* and *pullback*, respectively, of $f$ at $x$. The vectors $v$ and $w$ are termed *seeds* in AD literature."
   ]
  },
  {
   "cell_type": "markdown",
   "metadata": {
    "id": "Nwbb3hWAHeCj",
    "tags": []
   },
   "source": [
    "Consider the function composition\n",
    "\n",
    "$$\n",
    "h(x) = (f_N \\circ f_{N-1} \\circ \\cdots \\circ f_1)(x) = f_N(f_{N-1}(\\cdots f_1(x)\\cdots)),\n",
    "$$\n",
    "\n",
    "where each $f_k : \\mathbb{R}^{d_k} \\to \\mathbb{R}^{d_{k+1}}$ is some differentiable map.\n",
    "\n",
    "We can write this recursively as\n",
    "\n",
    "$$\n",
    "y_0 = x \\in \\mathbb{R}^n,\\quad y_{k+1} = f_k(y_k) \\in \\mathbb{R}^{d_{k+1}},\\quad y_N = h(x) \\in \\mathbb{R}^{d_N}.\n",
    "$$\n",
    "\n",
    "By the chain rule, we have\n",
    "\n",
    "$$\n",
    "\\partial{h}(x)\n",
    "= \\partial{f_N}(y_{N-1})\\partial{f_{N-1}}(y_{N-2}) \\cdots \\partial{f_1}(y_0).\n",
    "$$\n",
    "\n",
    "This sequence of matrix multiplications that can get quickly get expensive for complicated functions!"
   ]
  },
  {
   "cell_type": "markdown",
   "metadata": {
    "id": "5928jndJHeCl",
    "tags": []
   },
   "source": [
    "It is more efficient and usually sufficient in practice to compute JVPs via the recursion\n",
    "\n",
    "**This is done for us to have matrix-vector multiplication at all the stages (which makes the process more efficient).**\n",
    "\n",
    "$$\n",
    "\\begin{aligned}\n",
    "\\partial{h}(x)v_0\n",
    "&= \\partial{f_N}(y_{N-1})\\partial{f_{N-1}}(y_{N-2}) \\cdots \\partial{f_1}(y_0) v_0 \\\\\n",
    "&= v_N \\\\\n",
    "v_k &= \\partial{f_k}(y_{k-1})v_{k-1}\n",
    "\\end{aligned},\n",
    "$$\n",
    "\n",
    "and VJPs via the recursion\n",
    "\n",
    "$$\n",
    "\\begin{aligned}\n",
    "\\partial{h}(x)^\\top w_0\n",
    "&= \\partial{f_1}(y_0)^\\top \\cdots \\partial{f_{N-1}}(y_{N-2})^\\top \\partial{f_N}(y_{N-1})^\\top w_0 \\\\\n",
    "&= w_N \\\\\n",
    "w_k &= \\partial{f_{N-k+1}}(y_{N-k})^\\top w_{k-1}\n",
    "\\end{aligned}.\n",
    "$$\n",
    "\n",
    "VJPs require more memory than JVPs, since $\\{y_k\\}_{k=1}^{N-1}$ must be computed and stored first (i.e., the *forward pass*) before recursing (i.e., the *backward pass*)."
   ]
  },
  {
   "cell_type": "markdown",
   "metadata": {
    "id": "2TRBB3bfHeCl",
    "tags": []
   },
   "source": [
    "## Example: VJP as a gradient\n",
    "\n",
    "For a scalar function $f : \\mathbb{R}^n \\to \\mathbb{R}$, the Jacobian at $x$ is $\\partial{f}(x) \\in \\mathbb{R}^{1 \\times n}$, so\n",
    "\n",
    "$$\n",
    "\\nabla{f}(x) = \\partial{f}(x)^\\top 1.\n",
    "$$\n",
    "\n",
    "E.g., if $f(x) = \\frac{1}{2}\\|x\\|_2^2$, then $\\nabla{f}(x) = x \\cdot 1$."
   ]
  },
  {
   "cell_type": "code",
   "execution_count": 11,
   "metadata": {
    "id": "kQPRQ6ZBHeCm",
    "outputId": "f2a732af-deb8-4f3a-ab30-1a55cd172873",
    "tags": []
   },
   "outputs": [
    {
     "name": "stdout",
     "output_type": "stream",
     "text": [
      "x:       [0. 1. 2.]\n",
      "f(x):    2.5\n",
      "dfxT(1): (Array([0., 1., 2.], dtype=float32),)\n"
     ]
    }
   ],
   "source": [
    "f = lambda x: jnp.sum(x**2)/2  # anonymous functions work as well\n",
    "x = jnp.array([0., 1., 2.])\n",
    "f_x, dfxT = jax.vjp(f, x)      # compute forward pass and VJP function\n",
    "dfxT_1 = dfxT(1.)\n",
    "\n",
    "print('x:      ', x)\n",
    "print('f(x):   ', f_x)\n",
    "print('dfxT(1):', dfxT_1)"
   ]
  },
  {
   "cell_type": "code",
   "execution_count": 4,
   "metadata": {
    "id": "geqwKid-HeCm",
    "outputId": "74e0c459-8625-47c6-e12c-b8eec134bb2a"
   },
   "outputs": [
    {
     "data": {
      "image/png": "[encoded data removed]",
      "text/plain": [
       "<Figure size 600x600 with 1 Axes>"
      ]
     },
     "metadata": {},
     "output_type": "display_data"
    }
   ],
   "source": [
    "# plot\n",
    "import matplotlib.pyplot as plt\n",
    "xs1, xs2 = jnp.meshgrid(\n",
    "    jnp.linspace(-6, 6, 101),\n",
    "    jnp.linspace(-6, 6, 101))\n",
    "xs1 = xs1.reshape(101**2, 1)\n",
    "xs2 = xs2.reshape(101**2, 1)\n",
    "\n",
    "xs = jnp.concatenate((xs1, xs2), axis=-1) # This is equivalent to axis=1\n",
    "\n",
    "fs = jax.vmap(f)(xs)\n",
    "## The line above is equivalent to \n",
    "# for each in xs:\n",
    "#     print(each, f(each))\n",
    "#     break\n",
    "\n",
    "plt.figure(figsize=[6, 6])\n",
    "plt.scatter(xs1, xs2, c=fs)\n",
    "\n",
    "plt.quiver(x[1], x[2], dfxT_1[0][1], dfxT_1[0][2],\n",
    "    scale=10, color='r')\n",
    "# dfxT_1[0] takes the first element of the output tuple\n",
    "\n",
    "plt.show()"
   ]
  },
  {
   "cell_type": "code",
   "execution_count": 5,
   "metadata": {},
   "outputs": [
    {
     "data": {
      "text/plain": [
       "(Array(1., dtype=float32), Array(1., dtype=float32))"
      ]
     },
     "execution_count": 5,
     "metadata": {},
     "output_type": "execute_result"
    }
   ],
   "source": [
    "x[1], x[2]"
   ]
  },
  {
   "cell_type": "markdown",
   "metadata": {
    "id": "vIhVT0wDHeCo",
    "tags": []
   },
   "source": [
    "## Example: JVP as a directional derivative\n",
    "The directional derivative of $f : \\mathbb{R}^n \\to \\mathbb{R}$ at $x \\in \\mathbb{R}^n$ along $v \\in \\mathbb{R}^n$ is\n",
    "\n",
    "$$\n",
    "\\nabla{f}(x)^\\top v  = \\partial{f}(x)v.\n",
    "$$\n",
    "\n",
    "E.g., if $f(x) = \\frac{1}{2}\\|x\\|_2^2$, then $\\nabla{f}(x)^\\top v = x^\\top v$."
   ]
  },
  {
   "cell_type": "code",
   "execution_count": 9,
   "metadata": {
    "id": "vfKPD0NIHeCp",
    "outputId": "65d16dca-5daf-4301-f893-bf14f8d9a870"
   },
   "outputs": [
    {
     "name": "stdout",
     "output_type": "stream",
     "text": [
      "x:      [0. 1. 2.]\n",
      "f(x):   2.5\n",
      "dfx(v): 3.0\n"
     ]
    }
   ],
   "source": [
    "f = lambda x: jnp.sum(x**2)/2\n",
    "x = jnp.array([0., 1., 2.])\n",
    "v = jnp.array([1., 1., 1.]) # This is the seed, the direction in which the gradient at x is computed\n",
    "\n",
    "# use tuples to separate inputs from seeds\n",
    "f_x, dfx_v = jax.jvp(f, (x,), (v,))\n",
    "\n",
    "print('x:     ', x)\n",
    "print('f(x):  ', f_x)\n",
    "print('dfx(v):', dfx_v)"
   ]
  },
  {
   "cell_type": "code",
   "execution_count": 10,
   "metadata": {},
   "outputs": [
    {
     "data": {
      "text/plain": [
       "Array(3., dtype=float32)"
      ]
     },
     "execution_count": 10,
     "metadata": {},
     "output_type": "execute_result"
    }
   ],
   "source": [
    "# ???\n",
    "# So you can use VJP to calculate directional derivative as well\n",
    "# why was JVP specifically used to demonstrate\n",
    "# ???\n",
    "# Can you use JVP to calculate gradient?\n",
    "\n",
    "f = lambda x: jnp.sum(x**2)/2  # anonymous functions work as well\n",
    "# x = jnp.array([0., 1., 1.])\n",
    "f_x, dfxT = jax.vjp(f, x)      # compute forward pass and VJP function\n",
    "dfxT_1 = dfxT(1.)\n",
    "\n",
    "dfxT_1[0] @ v"
   ]
  },
  {
   "cell_type": "markdown",
   "metadata": {
    "id": "nFdOxuVlHeCq",
    "tags": []
   },
   "source": [
    "## Example: Multi-input, multi-output VJP\n",
    "Let's try something more complicated:\n",
    "\n",
    "$$\n",
    "\\begin{aligned}\n",
    "f : \\mathbb{R}^n \\times \\mathbb{R}^n &\\to \\mathbb{R} \\times \\mathbb{R} \\\\\n",
    "(x,y) &\\mapsto \\left(\\frac{1}{2}\\|x\\|_2^2 + \\frac{1}{2}\\|y\\|_2^2, \\sum_{i=1}^n x_i \\right)\n",
    "\\end{aligned}\n",
    "$$"
   ]
  },
  {
   "cell_type": "code",
   "execution_count": 14,
   "metadata": {
    "id": "H-NdEDqVHeCq",
    "outputId": "9b7ed40d-1e4e-4f17-c723-56e5a6e32c55",
    "tags": []
   },
   "outputs": [
    {
     "name": "stdout",
     "output_type": "stream",
     "text": [
      "x,y:      [0. 1. 2.] [0. 1. 2.]\n",
      "f(x,y):   (Array(5., dtype=float32), Array(3., dtype=float32))\n",
      "dfT(1,1): (Array([1., 2., 3.], dtype=float32), Array([0., 1., 2.], dtype=float32))\n"
     ]
    }
   ],
   "source": [
    "def f(x, y):\n",
    "    f1 = jnp.sum(x**2)/2 + jnp.sum(y**2)/2\n",
    "    f2 = jnp.sum(x)\n",
    "    return f1, f2\n",
    "\n",
    "x = jnp.array([0., 1., 2.])\n",
    "y = jnp.array([0., 1., 2.])\n",
    "f_xy, dfT = jax.vjp(f, x, y)\n",
    "\n",
    "print('x,y:     ', x, y)\n",
    "print('f(x,y):  ', f_xy)\n",
    "print('dfT(1,1):', dfT((1., 1.)))  # provide tuple as input"
   ]
  },
  {
   "cell_type": "code",
   "execution_count": 15,
   "metadata": {},
   "outputs": [
    {
     "data": {
      "text/plain": [
       "Partial(_HashableCallableShim(functools.partial(<function _vjp_pullback_wrapper at 0x7fe0806fe5c0>, 'f', [dtype('float32'), dtype('float32')], [(), ()], (PyTreeDef((*, *)), PyTreeDef((*, *))))), Partial(_HashableCallableShim(functools.partial(<function vjp.<locals>.unbound_vjp at 0x7fe041783f60>, [(ShapedArray(float32[]), None), (ShapedArray(float32[]), None)], let _reduce_sum = { lambda ; a:f32[3]. let\n",
       "    b:f32[] = reduce_sum[axes=(0,)] a\n",
       "  in (b,) } in\n",
       "let true_divide = { lambda ; c:f32[] d:f32[]. let e:f32[] = div c d in (e,) } in\n",
       "{ lambda f:f32[3] g:f32[] h:f32[3] i:f32[]; j:f32[3] k:f32[3]. let\n",
       "    l:f32[3] = convert_element_type[new_dtype=float32 weak_type=False] j\n",
       "    m:f32[3] = mul l f\n",
       "    n:f32[] = pjit[name=_reduce_sum jaxpr=_reduce_sum] m\n",
       "    o:f32[] = pjit[name=true_divide jaxpr=true_divide] n g\n",
       "    p:f32[3] = convert_element_type[new_dtype=float32 weak_type=False] k\n",
       "    q:f32[3] = mul p h\n",
       "    r:f32[] = pjit[name=_reduce_sum jaxpr=_reduce_sum] q\n",
       "    s:f32[] = pjit[name=true_divide jaxpr=true_divide] r i\n",
       "    t:f32[] = pjit[\n",
       "      name=fn\n",
       "      jaxpr={ lambda ; u:f32[] v:f32[]. let w:f32[] = add u v in (w,) }\n",
       "    ] o s\n",
       "    x:f32[] = pjit[name=_reduce_sum jaxpr=_reduce_sum] j\n",
       "  in (t, x) })), (Array([0., 2., 4.], dtype=float32), Array(2., dtype=float32), Array([0., 2., 4.], dtype=float32), Array(2., dtype=float32))))"
      ]
     },
     "execution_count": 15,
     "metadata": {},
     "output_type": "execute_result"
    }
   ],
   "source": [
    "dfT"
   ]
  },
  {
   "cell_type": "markdown",
   "metadata": {
    "id": "jIBeMLH-HeCr",
    "tags": []
   },
   "source": [
    "## Example: VJP and JVP for a Matrix Input\n",
    "We can generalize VJPs and JVPs to non-vector inputs as well:\n",
    "\n",
    "$$\n",
    "\\begin{aligned}\n",
    "f : \\mathbb{R}^{n \\times n} &\\to \\mathbb{R} \\\\\n",
    "X &\\mapsto a^\\top X b\n",
    "\\end{aligned}\n",
    "$$"
   ]
  },
  {
   "cell_type": "code",
   "execution_count": null,
   "metadata": {
    "id": "SwLQGEkbHeCr",
    "outputId": "4b5d7357-ba96-4c81-9d9e-95f59b24f4f4",
    "tags": []
   },
   "outputs": [
    {
     "name": "stdout",
     "output_type": "stream",
     "text": [
      "X:\n",
      "[[1. 1. 1.]\n",
      " [1. 1. 1.]\n",
      " [1. 1. 1.]]\n",
      "f(X): 9.0\n",
      "\n",
      "dfT(1):\n",
      "(DeviceArray([[0., 0., 0.],\n",
      "             [0., 1., 2.],\n",
      "             [0., 2., 4.]], dtype=float32),)\n",
      "df(I): 5.0\n"
     ]
    }
   ],
   "source": [
    "def f(X):\n",
    "    a, b = jnp.array([0., 1., 2.]), jnp.array([0., 1., 2.])\n",
    "    return a @ (X @ b)\n",
    "\n",
    "X = jnp.ones((3, 3))\n",
    "f_x = f(X)\n",
    "w, V = jnp.array(1.), jnp.eye(3)\n",
    "f_x, dfT = jax.vjp(f, X)\n",
    "f_x, df_v = jax.jvp(f, (X,), (V,))\n",
    "\n",
    "print('X:\\n', X, '\\n', 'f(X): ', f_x, '\\n', sep='')\n",
    "print('dfT(1):\\n', dfT(w), '\\n', 'df(I): ', df_v, sep='')"
   ]
  },
  {
   "cell_type": "markdown",
   "metadata": {
    "id": "WxU93RGOHeCr",
    "tags": []
   },
   "source": [
    "# Auto-Vectorizing Functions with `jax.vmap`\n",
    "\n",
    "For some complicated function $f : \\mathbb{R}^n \\to \\mathbb{R}^m$, we want to calculate $f(x)$ for *many* different values of $x$ without looping.\n",
    "\n",
    "This is known as *vectorizing* a function. JAX can do this automatically!"
   ]
  },
  {
   "cell_type": "code",
   "execution_count": 20,
   "metadata": {
    "id": "FO3MPsUwHeCr",
    "outputId": "42ecb4e8-931b-4287-ae37-fe35937defe3"
   },
   "outputs": [
    {
     "name": "stdout",
     "output_type": "stream",
     "text": [
      "(100, 3)\n",
      "(100, 2)\n"
     ]
    }
   ],
   "source": [
    "## See https://numpy.org/doc/stable/reference/generated/numpy.linalg.norm.html for ordinance of vector norms\n",
    "f = lambda x: jnp.array([jnp.sum(x**2)/2, jnp.linalg.norm(x, jnp.inf)])\n",
    "f = jax.vmap(f) # in_axis=0 by default\n",
    "# which means for each row of x, calculate the function f\n",
    "\n",
    "batch_size, n = 100, 3\n",
    "x = jnp.ones((batch_size, n))  # dummy values with desired shape\n",
    "\n",
    "print(x.shape)\n",
    "print(f(x).shape)"
   ]
  },
  {
   "cell_type": "markdown",
   "metadata": {
    "id": "ZtA5OS4-HeCs",
    "tags": []
   },
   "source": [
    "## Example: Batch Evaluation of a Neural Network"
   ]
  },
  {
   "cell_type": "code",
   "execution_count": 43,
   "metadata": {
    "id": "nUZmDztjHeCs",
    "outputId": "3a2d18c2-bff5-4ee9-b1a1-896f0fde0016"
   },
   "outputs": [
    {
     "name": "stdout",
     "output_type": "stream",
     "text": [
      "<function f at 0x7fe04105a3e0>\n",
      "(40, 100, 3)\n",
      "(40, 100, 5)\n"
     ]
    }
   ],
   "source": [
    "def f(x, W, b):\n",
    "    return W[1] @ jnp.tanh(W[0] @ x + b[0]) + b[1] # this one iterates over each row (dimension number at 100), each instance is a row of 3 elements\n",
    "f = jax.vmap(f, in_axes=(0, None, None)) \n",
    "print(f)\n",
    "f = jax.vmap(f, in_axes=(0, None, None)) #  this one iterates over dimension numbered at 40, each instance is 100x3\n",
    "# Think about this in the framework of for loops\n",
    "# The last vectorization is the outermost for loop\n",
    "# (0, None, None) means mapping over only x\n",
    "# W and b will be treated as a constant\n",
    "\n",
    "n, m = 3, 5\n",
    "batch_size = 100\n",
    "hdim = 32\n",
    "\n",
    "W = (jnp.ones((hdim, n)), jnp.ones((m, hdim)))\n",
    "b = (jnp.ones(hdim), jnp.ones(m))\n",
    "x = jnp.ones((40, batch_size, n))\n",
    "\n",
    "print(x.shape)\n",
    "print(f(x, W, b).shape)"
   ]
  },
  {
   "cell_type": "code",
   "execution_count": 39,
   "metadata": {},
   "outputs": [
    {
     "data": {
      "text/plain": [
       "(32, 3)"
      ]
     },
     "execution_count": 39,
     "metadata": {},
     "output_type": "execute_result"
    }
   ],
   "source": [
    "W[0].shape"
   ]
  },
  {
   "cell_type": "code",
   "execution_count": 42,
   "metadata": {},
   "outputs": [
    {
     "data": {
      "text/plain": [
       "Array([1., 1., 1.], dtype=float32)"
      ]
     },
     "execution_count": 42,
     "metadata": {},
     "output_type": "execute_result"
    }
   ],
   "source": [
    "x[0,0,:]#.shape"
   ]
  },
  {
   "cell_type": "code",
   "execution_count": 37,
   "metadata": {},
   "outputs": [
    {
     "data": {
      "text/plain": [
       "Array([4., 4., 4., 4., 4., 4., 4., 4., 4., 4., 4., 4., 4., 4., 4., 4., 4.,\n",
       "       4., 4., 4., 4., 4., 4., 4., 4., 4., 4., 4., 4., 4., 4., 4.],      dtype=float32)"
      ]
     },
     "execution_count": 37,
     "metadata": {},
     "output_type": "execute_result"
    }
   ],
   "source": [
    "W[0] @ x[0,0,:] + b[0]"
   ]
  },
  {
   "cell_type": "markdown",
   "metadata": {
    "id": "eLT-vyN5HeCt",
    "tags": []
   },
   "source": [
    "## Example: Jacobian Matrix from JVPs and VJPs\n",
    "\n",
    "Let $e^{(d)}_k \\in \\{0,1\\}^d$ denote the $k^\\text{th}$ coordinate vector in $d$ dimensions.\n",
    "\n",
    "For $f : \\mathbb{R}^n \\to \\mathbb{R}^m$, we can compute the full Jacobian $\\partial{f}(x) \\in \\mathbb{R}^{m \\times n}$ with either $n$ JVPs\n",
    "\n",
    "$$\n",
    "\\partial{f}(x) = \\partial{f}(x)I_n = \\begin{bmatrix}\n",
    "    \\partial{f}(x)e^{(n)}_1 & \\partial{f}(x)e^{(n)}_2 & \\cdots & \\partial{f}(x)e^{(n)}_n\n",
    "\\end{bmatrix},\n",
    "$$\n",
    "\n",
    "or $m$ VJPs\n",
    "$$\n",
    "\\partial{f}(x)^\\top = \\partial{f}(x)^\\top I_m = \\begin{bmatrix}\n",
    "    \\partial{f}(x)^\\top e^{(m)}_1 & \\partial{f}(x)^\\top e^{(m)}_2 & \\cdots & \\partial{f}(x)^\\top e^{(m)}_m\n",
    "\\end{bmatrix}.\n",
    "$$"
   ]
  },
  {
   "cell_type": "markdown",
   "metadata": {
    "id": "0qMow-SYHeCt",
    "tags": []
   },
   "source": [
    "This is what the source code for `jax.jacfwd` and `jac.jacrev` does."
   ]
  },
  {
   "cell_type": "code",
   "execution_count": 22,
   "metadata": {
    "id": "9veirpu3HeCt",
    "outputId": "47afbec9-7868-4ef3-977a-3a7c2cf6ccb8",
    "tags": []
   },
   "outputs": [
    {
     "name": "stdout",
     "output_type": "stream",
     "text": [
      "Jacobian (forward AD):\n",
      "[[1. 2.]\n",
      " [0. 0.]\n",
      " [0. 2.]]\n",
      "\n",
      "Jacobian (reverse AD):\n",
      "[[1. 0. 0.]\n",
      " [2. 0. 2.]]\n"
     ]
    }
   ],
   "source": [
    "f = lambda x: jnp.array([x[0], x[0]**2 + x[2]**2])\n",
    "\n",
    "def df(x, v):\n",
    "    fx, dfx_v = jax.jvp(f, (x,), (v,))\n",
    "    return dfx_v\n",
    "\n",
    "def dfT(x, w):\n",
    "    fx, dfxT = jax.vjp(f, x)\n",
    "    return dfxT(w)[0]  # need to index into tuple\n",
    "\n",
    "n, m = 3, 2\n",
    "x = jnp.ones(n)\n",
    "Jx = jax.vmap(df, in_axes=(None, 0))(x, jnp.eye(n))\n",
    "JxT = jax.vmap(dfT, in_axes=(None, 0))(x, jnp.eye(m))\n",
    "print('Jacobian (forward AD):')\n",
    "print(Jx)\n",
    "print('\\nJacobian (reverse AD):')\n",
    "print(JxT)"
   ]
  },
  {
   "cell_type": "markdown",
   "metadata": {
    "id": "ODgZo8n9HeCu",
    "tags": []
   },
   "source": [
    "## Example: Linearizing Dynamics at Many Points\n",
    "For $\\dot{x} = f(x,u)$ with $x \\in \\mathbb{R}^n$ and $u \\in \\mathbb{R}^m$, recall the first-order Taylor approximation\n",
    "\n",
    "$$\n",
    "f(x,u) \\approx \\underbrace{f(\\bar{x}_k,\\bar{u}_k)}_{= c_k}\n",
    "    + \\underbrace{\\partial_x{f}(\\bar{x}_k,\\bar{u}_k)}_{= A_k}(x - \\bar{x})\n",
    "    + \\underbrace{\\partial_u{f}(\\bar{x}_k,\\bar{u}_k)}_{= B_k}(u - \\bar{u}).\n",
    "$$\n",
    "\n",
    "We want $A_k\\Delta{x}_t$, $B_k\\Delta{u}_t$, and $c_k$ for $\\{(\\bar{x}_k,\\bar{u}_k)\\}_{k=1}^K$ and $\\{(\\Delta{x}_t,\\Delta{u}_t)\\}_{t=1}^T$.\n",
    "\n",
    "This scenario may correspond to evaluating Taylor approximations for $T$ perturbations $(\\Delta{x}_t,\\Delta{u}_t)$ that we want to test at the $K$ points $(\\bar{x}_k,\\bar{u}_k)$."
   ]
  },
  {
   "cell_type": "code",
   "execution_count": null,
   "metadata": {
    "id": "Ti1-JQ4wHeCu",
    "outputId": "1b4d9fef-2ac3-4b6a-d9b7-1205362be5bc"
   },
   "outputs": [
    {
     "name": "stdout",
     "output_type": "stream",
     "text": [
      "<class 'function'>\n",
      "<class 'function'>\n",
      "<class 'function'>\n",
      "(5, 10, 2)\n",
      "(5, 10, 2)\n",
      "(5, 10, 2)\n"
     ]
    }
   ],
   "source": [
    "# Inverted pendulum (with unit mass and unit length)\n",
    "f = lambda x, u: jnp.array([x[1], 9.81*jnp.sin(x[0]) + u[0]])\n",
    "\n",
    "def taylor(x̄, ū, Δx, Δu):\n",
    "    f_x̄ū, AΔx = jax.jvp(lambda x: f(x, ū), (x̄,), (Δx,))\n",
    "    _, BΔu = jax.jvp(lambda u: f(x̄, u), (ū,), (Δu,))\n",
    "    return f_x̄ū, AΔx, BΔu\n",
    "\n",
    "print(type(taylor))\n",
    "\n",
    "n, m = 2, 1\n",
    "K, T = 5, 10\n",
    "x̄, ū = jnp.ones((K, n)), jnp.ones((K, m))\n",
    "Δx, Δu = jnp.ones((T, n)), jnp.ones((T, m))\n",
    "\n",
    "taylor = jax.vmap(taylor, in_axes=(None, None, 0, 0))\n",
    "print(type(taylor))\n",
    "\n",
    "taylor = jax.vmap(taylor, in_axes=(0, 0, None, None))\n",
    "print(type(taylor))\n",
    "\n",
    "c, Ax, Bu = taylor(x̄, ū, Δx, Δu)\n",
    "print(c.shape)\n",
    "print(Ax.shape)\n",
    "print(Bu.shape)"
   ]
  },
  {
   "cell_type": "markdown",
   "metadata": {
    "id": "5OR6rFZ8HeCv"
   },
   "source": [
    "If, instead, we have $K=5$ trajectories $\\{(\\bar{x}_k,\\bar{u}_k)\\}_{k=1}^K$ and each trajectory $\\bar{x}_k$ has $T=10$ timesteps $\\{(\\bar{x}_{k,t},\\bar{u}_{k,t})\\}_{t=1}^T$, and similarly for $(\\Delta{x},\\Delta{u})$, then we can evaluate Taylor approximations for all these trajectories with two calls to vmap as below."
   ]
  },
  {
   "cell_type": "code",
   "execution_count": null,
   "metadata": {
    "id": "5F9NC2mFHeCv",
    "outputId": "3f392674-c84f-40b9-8829-748a8cf3eb28"
   },
   "outputs": [
    {
     "name": "stdout",
     "output_type": "stream",
     "text": [
      "(5, 10, 2)\n",
      "(5, 10, 2)\n",
      "(5, 10, 2)\n"
     ]
    }
   ],
   "source": [
    "# Inverted pendulum (with unit mass and unit length)\n",
    "f = lambda x, u: jnp.array([x[1], 9.81*jnp.sin(x[0]) + u[0]])\n",
    "def taylor(x̄, ū, Δx, Δu):\n",
    "    f_x̄ū, AΔx = jax.jvp(lambda x: f(x, ū), (x̄,), (Δx,))\n",
    "    f_x̄ū, BΔu = jax.jvp(lambda u: f(x̄, u), (ū,), (Δu,))\n",
    "    return f_x̄ū, AΔx, BΔu\n",
    "\n",
    "n, m = 2, 1\n",
    "K, T = 5, 10\n",
    "x̄ = jnp.ones((K, T, n)) # note the different sizes\n",
    "ū = jnp.ones((K, T, m))\n",
    "Δx, Δu = jnp.ones((K, T, n)), jnp.ones((K, T, m))\n",
    "\n",
    "# two successive calls to vmap:\n",
    "# we linearize for the K trajectories that each have T timesteps\n",
    "taylor = jax.vmap(taylor)\n",
    "taylor = jax.vmap(taylor)\n",
    "\n",
    "c, Ax, Bu = taylor(x̄, ū, Δx, Δu)\n",
    "print(c.shape)\n",
    "print(Ax.shape)\n",
    "print(Bu.shape)"
   ]
  },
  {
   "cell_type": "markdown",
   "metadata": {
    "id": "gZJ5LvDQHeCw",
    "tags": []
   },
   "source": [
    "# Other Features and Nuances of JAX\n",
    "\n",
    "See the [JAX documentation](https://jax.readthedocs.io/en/latest/notebooks/quickstart.html) for more details."
   ]
  },
  {
   "cell_type": "markdown",
   "metadata": {
    "id": "xyFcCqqNHeCw"
   },
   "source": [
    "## Just-In-Time (JIT) Compilation\n",
    "\n",
    "JAX can compile code to run fast on both CPUs and GPUs. The first call to a \"jitted\" function will compile and cache the function; subsequent calls are then much faster."
   ]
  },
  {
   "cell_type": "code",
   "execution_count": null,
   "metadata": {
    "id": "GdBTF7aeHeCw",
    "outputId": "7cc7a635-a2cc-4eff-a188-16c33c723af3"
   },
   "outputs": [
    {
     "name": "stdout",
     "output_type": "stream",
     "text": [
      "42.5 ms ± 2.95 ms per loop (mean ± std. dev. of 10 runs, 100 loops each)\n",
      "10.4 ms ± 426 µs per loop (mean ± std. dev. of 10 runs, 100 loops each)\n"
     ]
    }
   ],
   "source": [
    "def selu(x, alpha=1.67, lmbda=1.05):\n",
    "    return lmbda * jnp.where(x > 0, x, alpha * jnp.exp(x) - alpha)\n",
    "\n",
    "x = jnp.ones(int(1e7))\n",
    "%timeit -r10 -n100 selu(x).block_until_ready()\n",
    "\n",
    "selu_jit = jax.jit(selu)\n",
    "%timeit -r10 -n100 selu_jit(x).block_until_ready()"
   ]
  },
  {
   "cell_type": "markdown",
   "metadata": {
    "id": "XsqyNVKsHeCw",
    "tags": []
   },
   "source": [
    "## In-Place Updates\n",
    "\n",
    "JAX arrays are immutable. In keeping with the functional programming paradigm, updates to array values at indices are done via JAX functions."
   ]
  },
  {
   "cell_type": "code",
   "execution_count": null,
   "metadata": {
    "id": "j9lIByFsHeCx",
    "outputId": "85101f0d-ab2a-4074-c60e-dc588a6942a7"
   },
   "outputs": [
    {
     "name": "stdout",
     "output_type": "stream",
     "text": [
      "Exception: '<class 'jaxlib.xla_extension.DeviceArray'>' object does not support item assignment. JAX arrays are immutable. Instead of ``x[idx] = y``, use ``x = x.at[idx].set(y)`` or another .at[] method: https://jax.readthedocs.io/en/latest/_autosummary/jax.numpy.ndarray.at.html\n",
      "\n",
      "X:\n",
      "[[0. 0. 0.]\n",
      " [0. 0. 0.]\n",
      " [0. 0. 0.]]\n",
      "\n",
      "Y:\n",
      "[[1. 1. 1.]\n",
      " [0. 0. 0.]\n",
      " [0. 0. 0.]]\n"
     ]
    }
   ],
   "source": [
    "X = jnp.zeros((3,3))\n",
    "try:\n",
    "    X[0, :] = 1.\n",
    "except Exception as e:\n",
    "    print(\"Exception: {}\".format(e))\n",
    "print('\\nX:\\n', X, sep='')\n",
    "\n",
    "Y = X.at[0, :].set(1.)\n",
    "print('\\nY:\\n', Y, sep='')"
   ]
  },
  {
   "cell_type": "markdown",
   "metadata": {
    "id": "dAotQo_lHeCx",
    "tags": []
   },
   "source": [
    "## Pseudo-Random Number Generation (PRNG)\n",
    "\n",
    "JAX does explicit PRNG; after initiailizing a PRNG state, it can be forked into new PRNG states for parallel stochastic generation.\n",
    "\n",
    "This enables reproducible results; propagate the key and make new subkeys whenever new random numbers are needed."
   ]
  },
  {
   "cell_type": "code",
   "execution_count": null,
   "metadata": {
    "id": "bPAqqxf7HeCy",
    "outputId": "638b7a8d-714f-41bd-b5d8-c2d70ac31668"
   },
   "outputs": [
    {
     "name": "stdout",
     "output_type": "stream",
     "text": [
      "[-0.20584226]\n",
      "[-0.20584226]\n",
      "\n",
      "key [0 0]\n",
      "|-- SPLIT --> key     [2467461003  428148500]\n",
      "          --> subkeys [3186719485 3840466878] --> normal [0.5781488]\n",
      "                      [2562233961 1946702221] --> normal [0.8535516]\n"
     ]
    }
   ],
   "source": [
    "seed = 0\n",
    "key = jax.random.PRNGKey(seed)\n",
    "print(jax.random.normal(key, shape=(1,)))\n",
    "print(jax.random.normal(key, shape=(1,)))  # same value sampled!\n",
    "\n",
    "print('\\nkey', key)\n",
    "key, *subkeys = jax.random.split(key, 3)\n",
    "print('|-- SPLIT --> key    ', key)\n",
    "print('          --> subkeys', subkeys[0],\n",
    "      '--> normal', jax.random.normal(subkeys[0], shape=(1,)))\n",
    "print('                     ', subkeys[1],\n",
    "      '--> normal', jax.random.normal(subkeys[1], shape=(1,)))"
   ]
  }
 ],
 "metadata": {
  "authors": [
   {
    "name": "Spencer M.~Richards"
   }
  ],
  "colab": {
   "provenance": []
  },
  "kernelspec": {
   "display_name": "Python 3 (ipykernel)",
   "language": "python",
   "name": "python3"
  },
  "language_info": {
   "codemirror_mode": {
    "name": "ipython",
    "version": 3
   },
   "file_extension": ".py",
   "mimetype": "text/x-python",
   "name": "python",
   "nbconvert_exporter": "python",
   "pygments_lexer": "ipython3",
   "version": "3.12.1"
  },
  "title": "AA 203 Recitation #1: Automatic Differentiation with JAX",
  "toc-autonumbering": true,
  "toc-showcode": false,
  "toc-showmarkdowntxt": false,
  "toc-showtags": false
 },
 "nbformat": 4,
 "nbformat_minor": 4
}
